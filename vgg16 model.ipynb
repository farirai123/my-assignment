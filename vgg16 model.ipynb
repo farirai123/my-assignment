{
 "cells": [
  {
   "cell_type": "code",
   "execution_count": 1,
   "metadata": {},
   "outputs": [],
   "source": [
    "from keras.applications.vgg16 import VGG16\n",
    "model = VGG16()"
   ]
  },
  {
   "cell_type": "code",
   "execution_count": 2,
   "metadata": {},
   "outputs": [
    {
     "name": "stdout",
     "output_type": "stream",
     "text": [
      "Model: \"vgg16\"\n",
      "_________________________________________________________________\n",
      " Layer (type)                Output Shape              Param #   \n",
      "=================================================================\n",
      " input_2 (InputLayer)        [(None, 224, 224, 3)]     0         \n",
      "                                                                 \n",
      " block1_conv1 (Conv2D)       (None, 224, 224, 64)      1792      \n",
      "                                                                 \n",
      " block1_conv2 (Conv2D)       (None, 224, 224, 64)      36928     \n",
      "                                                                 \n",
      " block1_pool (MaxPooling2D)  (None, 112, 112, 64)      0         \n",
      "                                                                 \n",
      " block2_conv1 (Conv2D)       (None, 112, 112, 128)     73856     \n",
      "                                                                 \n",
      " block2_conv2 (Conv2D)       (None, 112, 112, 128)     147584    \n",
      "                                                                 \n",
      " block2_pool (MaxPooling2D)  (None, 56, 56, 128)       0         \n",
      "                                                                 \n",
      " block3_conv1 (Conv2D)       (None, 56, 56, 256)       295168    \n",
      "                                                                 \n",
      " block3_conv2 (Conv2D)       (None, 56, 56, 256)       590080    \n",
      "                                                                 \n",
      " block3_conv3 (Conv2D)       (None, 56, 56, 256)       590080    \n",
      "                                                                 \n",
      " block3_pool (MaxPooling2D)  (None, 28, 28, 256)       0         \n",
      "                                                                 \n",
      " block4_conv1 (Conv2D)       (None, 28, 28, 512)       1180160   \n",
      "                                                                 \n",
      " block4_conv2 (Conv2D)       (None, 28, 28, 512)       2359808   \n",
      "                                                                 \n",
      " block4_conv3 (Conv2D)       (None, 28, 28, 512)       2359808   \n",
      "                                                                 \n",
      " block4_pool (MaxPooling2D)  (None, 14, 14, 512)       0         \n",
      "                                                                 \n",
      " block5_conv1 (Conv2D)       (None, 14, 14, 512)       2359808   \n",
      "                                                                 \n",
      " block5_conv2 (Conv2D)       (None, 14, 14, 512)       2359808   \n",
      "                                                                 \n",
      " block5_conv3 (Conv2D)       (None, 14, 14, 512)       2359808   \n",
      "                                                                 \n",
      " block5_pool (MaxPooling2D)  (None, 7, 7, 512)         0         \n",
      "                                                                 \n",
      " flatten (Flatten)           (None, 25088)             0         \n",
      "                                                                 \n",
      " fc1 (Dense)                 (None, 4096)              102764544 \n",
      "                                                                 \n",
      " fc2 (Dense)                 (None, 4096)              16781312  \n",
      "                                                                 \n",
      " predictions (Dense)         (None, 1000)              4097000   \n",
      "                                                                 \n",
      "=================================================================\n",
      "Total params: 138,357,544\n",
      "Trainable params: 138,357,544\n",
      "Non-trainable params: 0\n",
      "_________________________________________________________________\n",
      "None\n"
     ]
    }
   ],
   "source": [
    "from keras.applications.vgg16 import VGG16\n",
    "model = VGG16()\n",
    "print(model.summary())"
   ]
  },
  {
   "cell_type": "code",
   "execution_count": 3,
   "metadata": {},
   "outputs": [
    {
     "name": "stdout",
     "output_type": "stream",
     "text": [
      "You must install pydot (`pip install pydot`) and install graphviz (see instructions at https://graphviz.gitlab.io/download/) for plot_model/model_to_dot to work.\n"
     ]
    }
   ],
   "source": [
    "\n",
    "from keras.applications.vgg16 import VGG16\n",
    "from keras.utils.vis_utils import plot_model\n",
    "model = VGG16()\n",
    "plot_model(model, to_file='vgg.png')"
   ]
  },
  {
   "cell_type": "code",
   "execution_count": 4,
   "metadata": {},
   "outputs": [],
   "source": [
    "\n",
    "from keras.applications.vgg16 import VGG16\n",
    "from keras.preprocessing.image import img_to_array\n",
    "from keras.preprocessing.image import load_img\n",
    "from keras.applications.vgg16 import preprocess_input\n",
    "from keras.applications.vgg16 import decode_predictions\n",
    "from os import listdir\n",
    "from os.path import isfile, join\n",
    "# load the model\n",
    "model = VGG16()"
   ]
  },
  {
   "cell_type": "code",
   "execution_count": 10,
   "metadata": {},
   "outputs": [],
   "source": [
    "frames = [join('./data', f) for f in listdir('./data') if isfile(join('./data', f))]"
   ]
  },
  {
   "cell_type": "code",
   "execution_count": 13,
   "metadata": {},
   "outputs": [
    {
     "name": "stdout",
     "output_type": "stream",
     "text": [
      "tusker (7.37%)\n",
      "hartebeest (10.95%)\n",
      "gazelle (17.30%)\n",
      "gazelle (13.98%)\n",
      "gazelle (17.07%)\n",
      "red_wolf (9.19%)\n",
      "gazelle (9.19%)\n",
      "gazelle (9.40%)\n",
      "red_fox (9.25%)\n",
      "red_fox (2.25%)\n",
      "cloak (2.17%)\n",
      "cloak (7.48%)\n",
      "hartebeest (10.91%)\n",
      "cloak (7.21%)\n",
      "abaya (7.32%)\n",
      "abaya (3.55%)\n",
      "abaya (3.43%)\n",
      "Chesapeake_Bay_retriever (3.82%)\n",
      "Sussex_spaniel (14.36%)\n",
      "Sussex_spaniel (15.59%)\n",
      "otterhound (19.27%)\n",
      "otterhound (16.31%)\n",
      "otterhound (27.90%)\n",
      "gazelle (11.38%)\n",
      "otterhound (32.15%)\n",
      "otterhound (30.16%)\n",
      "otterhound (24.87%)\n",
      "lion (13.33%)\n",
      "lion (14.30%)\n",
      "otterhound (7.22%)\n",
      "lion (20.30%)\n",
      "otterhound (18.62%)\n",
      "bloodhound (20.76%)\n",
      "bloodhound (20.41%)\n",
      "gazelle (8.44%)\n",
      "ox (17.88%)\n",
      "ox (19.49%)\n",
      "ox (19.49%)\n",
      "ox (34.52%)\n",
      "ibex (29.88%)\n",
      "ibex (27.97%)\n",
      "ox (40.40%)\n",
      "ox (41.09%)\n",
      "ox (31.57%)\n",
      "wombat (30.88%)\n",
      "gazelle (10.48%)\n",
      "wombat (30.45%)\n",
      "wombat (29.60%)\n",
      "ox (18.11%)\n",
      "ox (28.93%)\n",
      "ox (32.39%)\n",
      "ox (41.62%)\n",
      "ox (36.53%)\n",
      "ox (34.81%)\n",
      "ox (34.68%)\n",
      "ox (44.45%)\n",
      "gazelle (26.72%)\n",
      "ox (39.53%)\n",
      "ox (33.99%)\n",
      "ox (39.01%)\n",
      "ox (36.74%)\n",
      "ox (41.55%)\n",
      "ox (41.86%)\n",
      "ox (29.37%)\n",
      "hartebeest (43.68%)\n",
      "hartebeest (37.32%)\n",
      "ox (56.62%)\n",
      "gazelle (28.28%)\n",
      "hartebeest (51.31%)\n",
      "ox (31.62%)\n",
      "ox (33.37%)\n",
      "ox (30.87%)\n",
      "ox (38.68%)\n",
      "ox (46.56%)\n",
      "ox (42.40%)\n",
      "ox (54.43%)\n",
      "ox (62.19%)\n",
      "ox (74.00%)\n",
      "gazelle (21.59%)\n",
      "ox (69.39%)\n",
      "ox (66.48%)\n",
      "ox (57.60%)\n",
      "ox (61.96%)\n",
      "ox (46.68%)\n",
      "ox (55.82%)\n",
      "ox (63.12%)\n",
      "ox (61.85%)\n",
      "ox (65.66%)\n",
      "ox (53.02%)\n",
      "gazelle (16.96%)\n"
     ]
    }
   ],
   "source": [
    "for frame in frames:\n",
    "    image = load_img(frame, target_size=(224, 224)) # load an image from file\n",
    "    image = img_to_array(image) # convert the image pixels to a numpy array\n",
    "    image = img_to_array(image)\n",
    "    image = image.reshape((1, image.shape[0], image.shape[1], image.shape[2]))\n",
    "    image = preprocess_input(image) # prepare the image for the VGG model\n",
    "    yhat = model.predict(image) # predict the probability across all output classes\n",
    "    label = decode_predictions(yhat)# convert the probabilities to class labels\n",
    "    label = label[0][0] # retrieve the most likely result, e.g. highest probability\n",
    "    print('%s (%.2f%%)' % (label[1], label[2]*100)) # print the classification\n"
   ]
  }
 ],
 "metadata": {
  "interpreter": {
   "hash": "c772a00c4d53ab29f65e17bb84543de2edc0fa7705cfa6b8f2a772e56de29517"
  },
  "kernelspec": {
   "display_name": "Python 3.8.5 ('venv': venv)",
   "language": "python",
   "name": "python3"
  },
  "language_info": {
   "codemirror_mode": {
    "name": "ipython",
    "version": 3
   },
   "file_extension": ".py",
   "mimetype": "text/x-python",
   "name": "python",
   "nbconvert_exporter": "python",
   "pygments_lexer": "ipython3",
   "version": "3.9.9"
  },
  "orig_nbformat": 4
 },
 "nbformat": 4,
 "nbformat_minor": 2
}
